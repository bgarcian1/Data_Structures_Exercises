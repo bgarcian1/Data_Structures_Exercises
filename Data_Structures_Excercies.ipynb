{
 "cells": [
  {
   "cell_type": "code",
   "execution_count": 4,
   "metadata": {},
   "outputs": [
    {
     "name": "stdout",
     "output_type": "stream",
     "text": [
      "(2.0, 1.0)\n",
      "(-1.0, -1.0)\n"
     ]
    }
   ],
   "source": [
    "# Exercise 1\n",
    "def solve_quadratic(a, b, c):\n",
    "    x1= (-b + (b**2 - 4*a*c)**.5) /(2*a)\n",
    "    x2= (-b - (b**2 - 4*a*c)**.5) /(2*a)\n",
    "    return x1, x2\n",
    "print(solve_quadratic(1,-3,2))\n",
    "print(solve_quadratic(1,2,1))"
   ]
  },
  {
   "cell_type": "code",
   "execution_count": 12,
   "metadata": {},
   "outputs": [
    {
     "data": {
      "text/plain": [
       "529344067295497451"
      ]
     },
     "execution_count": 12,
     "metadata": {},
     "output_type": "execute_result"
    }
   ],
   "source": [
    "# Exercise 2\n",
    "# Get a space-separated list of integers from the user, create a tuple of those integers. Then compute and print the result of hash(tuple).\n",
    "user_input= input(\"Enter comma-separated integers: \")\n",
    "my_tuple = tuple(int(item) for item in user_input.split(','))\n",
    "hash(my_tuple)"
   ]
  },
  {
   "cell_type": "code",
   "execution_count": 14,
   "metadata": {},
   "outputs": [
    {
     "name": "stdout",
     "output_type": "stream",
     "text": [
      "[6, 12, 18, 4, 12, 20, 28]\n"
     ]
    }
   ],
   "source": [
    "# Exercise 3\n",
    "# Take the following two lists. Create a third list by picking a odd-index elements from the first list and even-index elements from the second.\n",
    "listOne = [3, 6, 9, 12, 15, 18, 21]\n",
    "listTwo = [4, 8, 12, 16, 20, 24, 28]\n",
    "listThree= listOne[1::2] + listTwo[::2] #picking odd-index elements from list one and even-index elements from list two\n",
    "# 1::2 starts at index 1 and jumps every 2\n",
    "# wasn't sure how else to combine so just added them in order (elements from list one + elements from list two)\n",
    "print(listThree)"
   ]
  },
  {
   "cell_type": "code",
   "execution_count": 83,
   "metadata": {},
   "outputs": [
    {
     "name": "stdout",
     "output_type": "stream",
     "text": [
      "Original List: [11, 45, 8, 23, 14, 12, 78, 45, 89]\n",
      "Chunked List: [[11, 45, 8], [23, 14, 12], [78, 45, 89]]\n",
      "Reversed Chunks (Way 1): [[8, 45, 11], [12, 14, 23], [89, 45, 78]]\n",
      "Reversed Chunks (Way 2): [[8, 45, 11], [12, 14, 23], [89, 45, 78]]\n"
     ]
    }
   ],
   "source": [
    "# Exercise 4\n",
    "# Take the following list. Slice it into three equal chunks and reverse each list.\n",
    "sampleList = [11, 45, 8, 23, 14, 12, 78, 45, 89]\n",
    "print ('Original List:', sampleList)\n",
    "chunk_size= 3\n",
    "list_chunked= [sampleList[i:i+chunk_size] for i in range(0, len(sampleList), chunk_size)] # splitting list into equal chunks\n",
    "print('Chunked List:',list_chunked) # printing chunks, it's a list of chunks\n",
    "# way one\n",
    "reversed_chunks= [list_chunked[i][::-1] for i in range(0,chunk_size, 1)] # reversing chunks while keeping chunks in order\n",
    "print('Reversed Chunks (Way 1):', reversed_chunks)\n",
    "# way two\n",
    "new= list_chunked.copy()\n",
    "new_rev=[list(reversed(list_chunked[i])) for i in range(0,chunk_size, 1)] \n",
    "print('Reversed Chunks (Way 2):', new_rev)"
   ]
  },
  {
   "cell_type": "code",
   "execution_count": 77,
   "metadata": {},
   "outputs": [
    {
     "name": "stdout",
     "output_type": "stream",
     "text": [
      "[47, 69, 76, 97]\n"
     ]
    }
   ],
   "source": [
    "# Exercise 5\n",
    "# Iterate through a given list and check if a given element already exists in a dictionary as a key’s value. If not, delete it from the list.\n",
    "rollNumber = [47, 64, 69, 37, 76, 83, 95, 97] # given list\n",
    "sampleDict ={'Zach':47, 'Emma':69, 'Kelly':76, 'Jason':97} # given dictionary\n",
    "keep= sampleDict.values() # selecting key's values as elements to keep\n",
    "rollNumber= [x for x in rollNumber if x in keep] # selecting ONLY elements from list that already exist as dictionary key values\n",
    "print(rollNumber) # printing the edited list\n"
   ]
  }
 ],
 "metadata": {
  "kernelspec": {
   "display_name": "base",
   "language": "python",
   "name": "python3"
  },
  "language_info": {
   "codemirror_mode": {
    "name": "ipython",
    "version": 3
   },
   "file_extension": ".py",
   "mimetype": "text/x-python",
   "name": "python",
   "nbconvert_exporter": "python",
   "pygments_lexer": "ipython3",
   "version": "3.10.9"
  },
  "orig_nbformat": 4
 },
 "nbformat": 4,
 "nbformat_minor": 2
}
